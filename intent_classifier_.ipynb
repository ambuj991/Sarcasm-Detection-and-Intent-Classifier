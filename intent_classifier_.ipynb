{
  "cells": [
    {
      "cell_type": "markdown",
      "metadata": {
        "id": "bFkQMhPk9cC9"
      },
      "source": [
        "### Downloading necessary dependencies"
      ]
    },
    {
      "cell_type": "code",
      "execution_count": null,
      "metadata": {
        "colab": {
          "base_uri": "https://localhost:8080/"
        },
        "id": "adHzJIdt9MCU",
        "outputId": "7530ebe2-59d3-4764-f661-5c4514d759c5"
      },
      "outputs": [
        {
          "output_type": "stream",
          "name": "stdout",
          "text": [
            "Looking in indexes: https://pypi.org/simple, https://us-python.pkg.dev/colab-wheels/public/simple/\n",
            "Collecting wget\n",
            "  Downloading wget-3.2.zip (10 kB)\n",
            "  Preparing metadata (setup.py) ... \u001b[?25l\u001b[?25hdone\n",
            "Building wheels for collected packages: wget\n",
            "  Building wheel for wget (setup.py) ... \u001b[?25l\u001b[?25hdone\n",
            "  Created wheel for wget: filename=wget-3.2-py3-none-any.whl size=9676 sha256=8b493ad29531490fce68b444555a699c04ac5739b2b8d020762c84ee6f106daf\n",
            "  Stored in directory: /root/.cache/pip/wheels/04/5f/3e/46cc37c5d698415694d83f607f833f83f0149e49b3af9d0f38\n",
            "Successfully built wget\n",
            "Installing collected packages: wget\n",
            "Successfully installed wget-3.2\n"
          ]
        }
      ],
      "source": [
        "!pip install wget"
      ]
    },
    {
      "cell_type": "code",
      "execution_count": null,
      "metadata": {
        "colab": {
          "base_uri": "https://localhost:8080/"
        },
        "id": "Y-cyrjKFvXqx",
        "outputId": "7963fd63-e98d-42ea-d7de-1b7017d775e9"
      },
      "outputs": [
        {
          "output_type": "stream",
          "name": "stdout",
          "text": [
            "Looking in indexes: https://pypi.org/simple, https://us-python.pkg.dev/colab-wheels/public/simple/\n",
            "Requirement already satisfied: tensorflow in /usr/local/lib/python3.9/dist-packages (2.11.0)\n",
            "Requirement already satisfied: wrapt>=1.11.0 in /usr/local/lib/python3.9/dist-packages (from tensorflow) (1.15.0)\n",
            "Requirement already satisfied: grpcio<2.0,>=1.24.3 in /usr/local/lib/python3.9/dist-packages (from tensorflow) (1.51.3)\n",
            "Requirement already satisfied: google-pasta>=0.1.1 in /usr/local/lib/python3.9/dist-packages (from tensorflow) (0.2.0)\n",
            "Requirement already satisfied: keras<2.12,>=2.11.0 in /usr/local/lib/python3.9/dist-packages (from tensorflow) (2.11.0)\n",
            "Requirement already satisfied: setuptools in /usr/local/lib/python3.9/dist-packages (from tensorflow) (67.6.0)\n",
            "Requirement already satisfied: six>=1.12.0 in /usr/local/lib/python3.9/dist-packages (from tensorflow) (1.16.0)\n",
            "Requirement already satisfied: gast<=0.4.0,>=0.2.1 in /usr/local/lib/python3.9/dist-packages (from tensorflow) (0.4.0)\n",
            "Requirement already satisfied: tensorboard<2.12,>=2.11 in /usr/local/lib/python3.9/dist-packages (from tensorflow) (2.11.2)\n",
            "Requirement already satisfied: libclang>=13.0.0 in /usr/local/lib/python3.9/dist-packages (from tensorflow) (15.0.6.1)\n",
            "Requirement already satisfied: termcolor>=1.1.0 in /usr/local/lib/python3.9/dist-packages (from tensorflow) (2.2.0)\n",
            "Requirement already satisfied: opt-einsum>=2.3.2 in /usr/local/lib/python3.9/dist-packages (from tensorflow) (3.3.0)\n",
            "Requirement already satisfied: packaging in /usr/local/lib/python3.9/dist-packages (from tensorflow) (23.0)\n",
            "Requirement already satisfied: h5py>=2.9.0 in /usr/local/lib/python3.9/dist-packages (from tensorflow) (3.8.0)\n",
            "Requirement already satisfied: absl-py>=1.0.0 in /usr/local/lib/python3.9/dist-packages (from tensorflow) (1.4.0)\n",
            "Requirement already satisfied: tensorflow-io-gcs-filesystem>=0.23.1 in /usr/local/lib/python3.9/dist-packages (from tensorflow) (0.31.0)\n",
            "Requirement already satisfied: protobuf<3.20,>=3.9.2 in /usr/local/lib/python3.9/dist-packages (from tensorflow) (3.19.6)\n",
            "Requirement already satisfied: typing-extensions>=3.6.6 in /usr/local/lib/python3.9/dist-packages (from tensorflow) (4.5.0)\n",
            "Requirement already satisfied: astunparse>=1.6.0 in /usr/local/lib/python3.9/dist-packages (from tensorflow) (1.6.3)\n",
            "Requirement already satisfied: flatbuffers>=2.0 in /usr/local/lib/python3.9/dist-packages (from tensorflow) (23.3.3)\n",
            "Requirement already satisfied: tensorflow-estimator<2.12,>=2.11.0 in /usr/local/lib/python3.9/dist-packages (from tensorflow) (2.11.0)\n",
            "Requirement already satisfied: numpy>=1.20 in /usr/local/lib/python3.9/dist-packages (from tensorflow) (1.22.4)\n",
            "Requirement already satisfied: wheel<1.0,>=0.23.0 in /usr/local/lib/python3.9/dist-packages (from astunparse>=1.6.0->tensorflow) (0.40.0)\n",
            "Requirement already satisfied: markdown>=2.6.8 in /usr/local/lib/python3.9/dist-packages (from tensorboard<2.12,>=2.11->tensorflow) (3.4.1)\n",
            "Requirement already satisfied: google-auth<3,>=1.6.3 in /usr/local/lib/python3.9/dist-packages (from tensorboard<2.12,>=2.11->tensorflow) (2.16.2)\n",
            "Requirement already satisfied: tensorboard-data-server<0.7.0,>=0.6.0 in /usr/local/lib/python3.9/dist-packages (from tensorboard<2.12,>=2.11->tensorflow) (0.6.1)\n",
            "Requirement already satisfied: werkzeug>=1.0.1 in /usr/local/lib/python3.9/dist-packages (from tensorboard<2.12,>=2.11->tensorflow) (2.2.3)\n",
            "Requirement already satisfied: requests<3,>=2.21.0 in /usr/local/lib/python3.9/dist-packages (from tensorboard<2.12,>=2.11->tensorflow) (2.27.1)\n",
            "Requirement already satisfied: google-auth-oauthlib<0.5,>=0.4.1 in /usr/local/lib/python3.9/dist-packages (from tensorboard<2.12,>=2.11->tensorflow) (0.4.6)\n",
            "Requirement already satisfied: tensorboard-plugin-wit>=1.6.0 in /usr/local/lib/python3.9/dist-packages (from tensorboard<2.12,>=2.11->tensorflow) (1.8.1)\n",
            "Requirement already satisfied: pyasn1-modules>=0.2.1 in /usr/local/lib/python3.9/dist-packages (from google-auth<3,>=1.6.3->tensorboard<2.12,>=2.11->tensorflow) (0.2.8)\n",
            "Requirement already satisfied: cachetools<6.0,>=2.0.0 in /usr/local/lib/python3.9/dist-packages (from google-auth<3,>=1.6.3->tensorboard<2.12,>=2.11->tensorflow) (5.3.0)\n",
            "Requirement already satisfied: rsa<5,>=3.1.4 in /usr/local/lib/python3.9/dist-packages (from google-auth<3,>=1.6.3->tensorboard<2.12,>=2.11->tensorflow) (4.9)\n",
            "Requirement already satisfied: requests-oauthlib>=0.7.0 in /usr/local/lib/python3.9/dist-packages (from google-auth-oauthlib<0.5,>=0.4.1->tensorboard<2.12,>=2.11->tensorflow) (1.3.1)\n",
            "Requirement already satisfied: importlib-metadata>=4.4 in /usr/local/lib/python3.9/dist-packages (from markdown>=2.6.8->tensorboard<2.12,>=2.11->tensorflow) (6.1.0)\n",
            "Requirement already satisfied: charset-normalizer~=2.0.0 in /usr/local/lib/python3.9/dist-packages (from requests<3,>=2.21.0->tensorboard<2.12,>=2.11->tensorflow) (2.0.12)\n",
            "Requirement already satisfied: idna<4,>=2.5 in /usr/local/lib/python3.9/dist-packages (from requests<3,>=2.21.0->tensorboard<2.12,>=2.11->tensorflow) (3.4)\n",
            "Requirement already satisfied: urllib3<1.27,>=1.21.1 in /usr/local/lib/python3.9/dist-packages (from requests<3,>=2.21.0->tensorboard<2.12,>=2.11->tensorflow) (1.26.15)\n",
            "Requirement already satisfied: certifi>=2017.4.17 in /usr/local/lib/python3.9/dist-packages (from requests<3,>=2.21.0->tensorboard<2.12,>=2.11->tensorflow) (2022.12.7)\n",
            "Requirement already satisfied: MarkupSafe>=2.1.1 in /usr/local/lib/python3.9/dist-packages (from werkzeug>=1.0.1->tensorboard<2.12,>=2.11->tensorflow) (2.1.2)\n",
            "Requirement already satisfied: zipp>=0.5 in /usr/local/lib/python3.9/dist-packages (from importlib-metadata>=4.4->markdown>=2.6.8->tensorboard<2.12,>=2.11->tensorflow) (3.15.0)\n",
            "Requirement already satisfied: pyasn1<0.5.0,>=0.4.6 in /usr/local/lib/python3.9/dist-packages (from pyasn1-modules>=0.2.1->google-auth<3,>=1.6.3->tensorboard<2.12,>=2.11->tensorflow) (0.4.8)\n",
            "Requirement already satisfied: oauthlib>=3.0.0 in /usr/local/lib/python3.9/dist-packages (from requests-oauthlib>=0.7.0->google-auth-oauthlib<0.5,>=0.4.1->tensorboard<2.12,>=2.11->tensorflow) (3.2.2)\n"
          ]
        }
      ],
      "source": [
        "!pip install  tensorflow"
      ]
    },
    {
      "cell_type": "code",
      "execution_count": null,
      "metadata": {
        "colab": {
          "base_uri": "https://localhost:8080/"
        },
        "id": "oGRIDizEvXqy",
        "outputId": "57162f5c-f020-48b9-a6fc-3d1e66ab9fa6"
      },
      "outputs": [
        {
          "output_type": "stream",
          "name": "stdout",
          "text": [
            "Looking in indexes: https://pypi.org/simple, https://us-python.pkg.dev/colab-wheels/public/simple/\n",
            "Requirement already satisfied: pandas in /usr/local/lib/python3.9/dist-packages (1.4.4)\n",
            "Requirement already satisfied: python-dateutil>=2.8.1 in /usr/local/lib/python3.9/dist-packages (from pandas) (2.8.2)\n",
            "Requirement already satisfied: numpy>=1.18.5 in /usr/local/lib/python3.9/dist-packages (from pandas) (1.22.4)\n",
            "Requirement already satisfied: pytz>=2020.1 in /usr/local/lib/python3.9/dist-packages (from pandas) (2022.7.1)\n",
            "Requirement already satisfied: six>=1.5 in /usr/local/lib/python3.9/dist-packages (from python-dateutil>=2.8.1->pandas) (1.16.0)\n"
          ]
        }
      ],
      "source": [
        "!pip install  pandas"
      ]
    },
    {
      "cell_type": "code",
      "execution_count": null,
      "metadata": {
        "colab": {
          "base_uri": "https://localhost:8080/"
        },
        "id": "PPgIWlubvXqy",
        "outputId": "315c76f6-2329-4641-bdb8-8328dbf1038e"
      },
      "outputs": [
        {
          "output_type": "stream",
          "name": "stdout",
          "text": [
            "Looking in indexes: https://pypi.org/simple, https://us-python.pkg.dev/colab-wheels/public/simple/\n",
            "Requirement already satisfied: numpy in /usr/local/lib/python3.9/dist-packages (1.22.4)\n"
          ]
        }
      ],
      "source": [
        "!pip install numpy"
      ]
    },
    {
      "cell_type": "code",
      "execution_count": null,
      "metadata": {
        "colab": {
          "base_uri": "https://localhost:8080/"
        },
        "id": "WZ8itOVivXqy",
        "outputId": "ded73af2-b884-45be-9168-a038223b1949"
      },
      "outputs": [
        {
          "output_type": "stream",
          "name": "stdout",
          "text": [
            "Looking in indexes: https://pypi.org/simple, https://us-python.pkg.dev/colab-wheels/public/simple/\n",
            "Requirement already satisfied: keras in /usr/local/lib/python3.9/dist-packages (2.11.0)\n"
          ]
        }
      ],
      "source": [
        "!pip install  keras"
      ]
    },
    {
      "cell_type": "markdown",
      "metadata": {
        "id": "uQtIFiof9nQV"
      },
      "source": [
        "### Downloading CLINC150 Dataset and Glove word vector"
      ]
    },
    {
      "cell_type": "code",
      "execution_count": null,
      "metadata": {
        "colab": {
          "base_uri": "https://localhost:8080/",
          "height": 36
        },
        "id": "xpuB23KWtHPb",
        "outputId": "438a0934-ed79-4460-8ceb-90ea6941d732"
      },
      "outputs": [
        {
          "output_type": "execute_result",
          "data": {
            "text/plain": [
              "'glove.6B.100d.txt'"
            ],
            "application/vnd.google.colaboratory.intrinsic+json": {
              "type": "string"
            }
          },
          "metadata": {},
          "execution_count": 6
        }
      ],
      "source": [
        "import wget\n",
        "url = 'https://raw.githubusercontent.com/clinc/oos-eval/master/data/data_full.json'\n",
        "wget.download(url)\n",
        "\n",
        "url = 'https://www.dropbox.com/s/a247ju2qsczh0be/glove.6B.100d.txt?dl=1'\n",
        "wget.download(url)"
      ]
    },
    {
      "cell_type": "markdown",
      "metadata": {
        "id": "vcYaRgUG-OVF"
      },
      "source": [
        "### Dataset preparing"
      ]
    },
    {
      "cell_type": "code",
      "execution_count": null,
      "metadata": {
        "id": "gd8nYfMm-iVb"
      },
      "outputs": [],
      "source": [
        "import numpy as np\n",
        "import json"
      ]
    },
    {
      "cell_type": "code",
      "execution_count": null,
      "metadata": {
        "id": "Bd8hi3hj-aep"
      },
      "outputs": [],
      "source": [
        "# Loading json data\n",
        "with open('data_full.json') as file:\n",
        "  data = json.loads(file.read())\n",
        "\n",
        "# Loading out-of-scope intent data\n",
        "val_oos = np.array(data['oos_val'])\n",
        "train_oos = np.array(data['oos_train'])\n",
        "test_oos = np.array(data['oos_test'])\n",
        "\n",
        "# Loading other intents data\n",
        "val_others = np.array(data['val'])\n",
        "train_others = np.array(data['train'])\n",
        "test_others = np.array(data['test'])\n",
        "\n",
        "# Merging out-of-scope and other intent data\n",
        "val = np.concatenate([val_oos,val_others])\n",
        "train = np.concatenate([train_oos,train_others])\n",
        "test = np.concatenate([test_oos,test_others])"
      ]
    },
    {
      "cell_type": "code",
      "execution_count": null,
      "metadata": {
        "id": "7X_J8QGu-obW"
      },
      "outputs": [],
      "source": [
        "data = np.concatenate([train,test,val])\n",
        "data = data.T\n",
        "\n",
        "text = data[0]\n",
        "labels = data[1]"
      ]
    },
    {
      "cell_type": "code",
      "source": [
        "set(labels)"
      ],
      "metadata": {
        "colab": {
          "base_uri": "https://localhost:8080/"
        },
        "id": "2wOFo9fPEDKC",
        "outputId": "4afed8c8-b28d-4731-e4ac-72d6938efbac"
      },
      "execution_count": null,
      "outputs": [
        {
          "output_type": "execute_result",
          "data": {
            "text/plain": [
              "{'accept_reservations',\n",
              " 'account_blocked',\n",
              " 'alarm',\n",
              " 'application_status',\n",
              " 'apr',\n",
              " 'are_you_a_bot',\n",
              " 'balance',\n",
              " 'bill_balance',\n",
              " 'bill_due',\n",
              " 'book_flight',\n",
              " 'book_hotel',\n",
              " 'calculator',\n",
              " 'calendar',\n",
              " 'calendar_update',\n",
              " 'calories',\n",
              " 'cancel',\n",
              " 'cancel_reservation',\n",
              " 'car_rental',\n",
              " 'card_declined',\n",
              " 'carry_on',\n",
              " 'change_accent',\n",
              " 'change_ai_name',\n",
              " 'change_language',\n",
              " 'change_speed',\n",
              " 'change_user_name',\n",
              " 'change_volume',\n",
              " 'confirm_reservation',\n",
              " 'cook_time',\n",
              " 'credit_limit',\n",
              " 'credit_limit_change',\n",
              " 'credit_score',\n",
              " 'current_location',\n",
              " 'damaged_card',\n",
              " 'date',\n",
              " 'definition',\n",
              " 'direct_deposit',\n",
              " 'directions',\n",
              " 'distance',\n",
              " 'do_you_have_pets',\n",
              " 'exchange_rate',\n",
              " 'expiration_date',\n",
              " 'find_phone',\n",
              " 'flight_status',\n",
              " 'flip_coin',\n",
              " 'food_last',\n",
              " 'freeze_account',\n",
              " 'fun_fact',\n",
              " 'gas',\n",
              " 'gas_type',\n",
              " 'goodbye',\n",
              " 'greeting',\n",
              " 'how_busy',\n",
              " 'how_old_are_you',\n",
              " 'improve_credit_score',\n",
              " 'income',\n",
              " 'ingredient_substitution',\n",
              " 'ingredients_list',\n",
              " 'insurance',\n",
              " 'insurance_change',\n",
              " 'interest_rate',\n",
              " 'international_fees',\n",
              " 'international_visa',\n",
              " 'jump_start',\n",
              " 'last_maintenance',\n",
              " 'lost_luggage',\n",
              " 'make_call',\n",
              " 'maybe',\n",
              " 'meal_suggestion',\n",
              " 'meaning_of_life',\n",
              " 'measurement_conversion',\n",
              " 'meeting_schedule',\n",
              " 'min_payment',\n",
              " 'mpg',\n",
              " 'new_card',\n",
              " 'next_holiday',\n",
              " 'next_song',\n",
              " 'no',\n",
              " 'nutrition_info',\n",
              " 'oil_change_how',\n",
              " 'oil_change_when',\n",
              " 'oos',\n",
              " 'order',\n",
              " 'order_checks',\n",
              " 'order_status',\n",
              " 'pay_bill',\n",
              " 'payday',\n",
              " 'pin_change',\n",
              " 'play_music',\n",
              " 'plug_type',\n",
              " 'pto_balance',\n",
              " 'pto_request',\n",
              " 'pto_request_status',\n",
              " 'pto_used',\n",
              " 'recipe',\n",
              " 'redeem_rewards',\n",
              " 'reminder',\n",
              " 'reminder_update',\n",
              " 'repeat',\n",
              " 'replacement_card_duration',\n",
              " 'report_fraud',\n",
              " 'report_lost_card',\n",
              " 'reset_settings',\n",
              " 'restaurant_reservation',\n",
              " 'restaurant_reviews',\n",
              " 'restaurant_suggestion',\n",
              " 'rewards_balance',\n",
              " 'roll_dice',\n",
              " 'rollover_401k',\n",
              " 'routing',\n",
              " 'schedule_maintenance',\n",
              " 'schedule_meeting',\n",
              " 'share_location',\n",
              " 'shopping_list',\n",
              " 'shopping_list_update',\n",
              " 'smart_home',\n",
              " 'spelling',\n",
              " 'spending_history',\n",
              " 'sync_device',\n",
              " 'taxes',\n",
              " 'tell_joke',\n",
              " 'text',\n",
              " 'thank_you',\n",
              " 'time',\n",
              " 'timer',\n",
              " 'timezone',\n",
              " 'tire_change',\n",
              " 'tire_pressure',\n",
              " 'todo_list',\n",
              " 'todo_list_update',\n",
              " 'traffic',\n",
              " 'transactions',\n",
              " 'transfer',\n",
              " 'translate',\n",
              " 'travel_alert',\n",
              " 'travel_notification',\n",
              " 'travel_suggestion',\n",
              " 'uber',\n",
              " 'update_playlist',\n",
              " 'user_name',\n",
              " 'vaccines',\n",
              " 'w2',\n",
              " 'weather',\n",
              " 'what_are_your_hobbies',\n",
              " 'what_can_i_ask_you',\n",
              " 'what_is_your_name',\n",
              " 'what_song',\n",
              " 'where_are_you_from',\n",
              " 'whisper_mode',\n",
              " 'who_do_you_work_for',\n",
              " 'who_made_you',\n",
              " 'yes'}"
            ]
          },
          "metadata": {},
          "execution_count": 15
        }
      ]
    },
    {
      "cell_type": "markdown",
      "metadata": {
        "id": "jtNo2JgOXzGH"
      },
      "source": [
        "###Splitting the dataset"
      ]
    },
    {
      "cell_type": "code",
      "execution_count": null,
      "metadata": {
        "id": "BGgEkbAgTSMV"
      },
      "outputs": [],
      "source": [
        "from sklearn.model_selection import train_test_split"
      ]
    },
    {
      "cell_type": "code",
      "execution_count": null,
      "metadata": {
        "id": "HxLa9CRxvXq1"
      },
      "outputs": [],
      "source": []
    },
    {
      "cell_type": "code",
      "execution_count": null,
      "metadata": {
        "id": "T1j7zxUsTf06"
      },
      "outputs": [],
      "source": [
        "train_txt,test_txt,train_label,test_labels = train_test_split(text,labels,test_size = 0.3)"
      ]
    },
    {
      "cell_type": "code",
      "execution_count": null,
      "metadata": {
        "id": "HN_U2k8LvXq1"
      },
      "outputs": [],
      "source": [
        "import tensorflow as tf"
      ]
    },
    {
      "cell_type": "markdown",
      "metadata": {
        "id": "AZ9lXhztn4MN"
      },
      "source": [
        "### Preprocessing split dataset"
      ]
    },
    {
      "cell_type": "code",
      "execution_count": null,
      "metadata": {
        "id": "EamQVXdQn78L"
      },
      "outputs": [],
      "source": [
        "from tensorflow.keras.preprocessing.text import Tokenizer\n",
        "from tensorflow.keras.preprocessing.sequence import pad_sequences"
      ]
    },
    {
      "cell_type": "code",
      "execution_count": null,
      "metadata": {
        "id": "zUASoRmLvXq2"
      },
      "outputs": [],
      "source": [
        "Tokenizer= tf.keras.preprocessing.text.Tokenizer\n",
        "pad_sequences = tf.keras.preprocessing.sequence.pad_sequences"
      ]
    },
    {
      "cell_type": "code",
      "execution_count": null,
      "metadata": {
        "id": "MmWERSQo9Tuc"
      },
      "outputs": [],
      "source": [
        "ls=[]\n",
        "for c in train_txt:\n",
        "    ls.append(len(c.split()))\n",
        "maxLen=int(np.percentile(ls, 98))"
      ]
    },
    {
      "cell_type": "code",
      "execution_count": null,
      "metadata": {
        "id": "N8Ulkjtm9fho"
      },
      "outputs": [],
      "source": [
        "embeddings_index={}\n",
        "with open('glove.6B.100d.txt', encoding='utf8') as f:\n",
        "    for line in f:\n",
        "        values = line.split()\n",
        "        word = values[0]\n",
        "        coefs = np.asarray(values[1:], dtype='float32')\n",
        "        embeddings_index[word] = coefs"
      ]
    },
    {
      "cell_type": "code",
      "execution_count": null,
      "metadata": {
        "colab": {
          "base_uri": "https://localhost:8080/"
        },
        "id": "YrXLsj-R9zYF",
        "outputId": "5c27df2d-ac04-4aed-fdb7-9a7425c57e4e"
      },
      "outputs": [
        {
          "output_type": "stream",
          "name": "stderr",
          "text": [
            "/usr/local/lib/python3.9/dist-packages/IPython/core/interactiveshell.py:3249: FutureWarning: arrays to stack must be passed as a \"sequence\" type such as list or tuple. Support for non-sequence iterables such as generators is deprecated as of NumPy 1.16 and will raise an error in the future.\n",
            "  if (await self.run_code(code, result,  async_=asy)):\n"
          ]
        },
        {
          "output_type": "execute_result",
          "data": {
            "text/plain": [
              "(0.004451992, 0.4081574)"
            ]
          },
          "metadata": {},
          "execution_count": 17
        }
      ],
      "source": [
        "all_embs = np.stack(embeddings_index.values())\n",
        "emb_mean,emb_std = all_embs.mean(), all_embs.std()\n",
        "emb_mean,emb_std"
      ]
    },
    {
      "cell_type": "code",
      "execution_count": null,
      "metadata": {
        "id": "BDnqUWRU9wkG"
      },
      "outputs": [],
      "source": [
        "max_num_words = 40000\n",
        "embedding_dim=len(embeddings_index['the'])\n",
        "classes = np.unique(labels)\n",
        "\n",
        "tokenizer = Tokenizer(num_words=max_num_words)\n",
        "tokenizer.fit_on_texts(train_txt)\n",
        "\n",
        "train_sequences = tokenizer.texts_to_sequences(train_txt)\n",
        "train_sequences = pad_sequences(train_sequences, maxlen=maxLen, padding='post')\n",
        "test_sequences = tokenizer.texts_to_sequences(test_txt)\n",
        "test_sequences = pad_sequences(test_sequences, maxlen=maxLen, padding='post')\n",
        "word_index = tokenizer.word_index"
      ]
    },
    {
      "cell_type": "code",
      "execution_count": null,
      "metadata": {
        "id": "yBTK9qeD919G"
      },
      "outputs": [],
      "source": [
        "num_words = min(max_num_words, len(word_index) )+1\n",
        "embedding_matrix = np.random.normal(emb_mean, emb_std, (num_words, embedding_dim))\n",
        "for word, i in word_index.items():\n",
        "    if i >= max_num_words:\n",
        "        break\n",
        "    embedding_vector = embeddings_index.get(word)\n",
        "    if embedding_vector is not None:\n",
        "        embedding_matrix[i] = embedding_vector"
      ]
    },
    {
      "cell_type": "code",
      "execution_count": null,
      "metadata": {
        "colab": {
          "base_uri": "https://localhost:8080/",
          "height": 130
        },
        "id": "NRWw8TwjQ_lV",
        "outputId": "0c95cace-8401-4967-bf4d-df2d54dc2213"
      },
      "outputs": [
        {
          "output_type": "stream",
          "name": "stderr",
          "text": [
            "/usr/local/lib/python3.9/dist-packages/sklearn/preprocessing/_encoders.py:868: FutureWarning: `sparse` was renamed to `sparse_output` in version 1.2 and will be removed in 1.4. `sparse_output` is ignored unless you leave `sparse` to its default value.\n",
            "  warnings.warn(\n"
          ]
        },
        {
          "output_type": "execute_result",
          "data": {
            "text/plain": [
              "OneHotEncoder(sparse=False, sparse_output=False)"
            ],
            "text/html": [
              "<style>#sk-container-id-1 {color: black;background-color: white;}#sk-container-id-1 pre{padding: 0;}#sk-container-id-1 div.sk-toggleable {background-color: white;}#sk-container-id-1 label.sk-toggleable__label {cursor: pointer;display: block;width: 100%;margin-bottom: 0;padding: 0.3em;box-sizing: border-box;text-align: center;}#sk-container-id-1 label.sk-toggleable__label-arrow:before {content: \"▸\";float: left;margin-right: 0.25em;color: #696969;}#sk-container-id-1 label.sk-toggleable__label-arrow:hover:before {color: black;}#sk-container-id-1 div.sk-estimator:hover label.sk-toggleable__label-arrow:before {color: black;}#sk-container-id-1 div.sk-toggleable__content {max-height: 0;max-width: 0;overflow: hidden;text-align: left;background-color: #f0f8ff;}#sk-container-id-1 div.sk-toggleable__content pre {margin: 0.2em;color: black;border-radius: 0.25em;background-color: #f0f8ff;}#sk-container-id-1 input.sk-toggleable__control:checked~div.sk-toggleable__content {max-height: 200px;max-width: 100%;overflow: auto;}#sk-container-id-1 input.sk-toggleable__control:checked~label.sk-toggleable__label-arrow:before {content: \"▾\";}#sk-container-id-1 div.sk-estimator input.sk-toggleable__control:checked~label.sk-toggleable__label {background-color: #d4ebff;}#sk-container-id-1 div.sk-label input.sk-toggleable__control:checked~label.sk-toggleable__label {background-color: #d4ebff;}#sk-container-id-1 input.sk-hidden--visually {border: 0;clip: rect(1px 1px 1px 1px);clip: rect(1px, 1px, 1px, 1px);height: 1px;margin: -1px;overflow: hidden;padding: 0;position: absolute;width: 1px;}#sk-container-id-1 div.sk-estimator {font-family: monospace;background-color: #f0f8ff;border: 1px dotted black;border-radius: 0.25em;box-sizing: border-box;margin-bottom: 0.5em;}#sk-container-id-1 div.sk-estimator:hover {background-color: #d4ebff;}#sk-container-id-1 div.sk-parallel-item::after {content: \"\";width: 100%;border-bottom: 1px solid gray;flex-grow: 1;}#sk-container-id-1 div.sk-label:hover label.sk-toggleable__label {background-color: #d4ebff;}#sk-container-id-1 div.sk-serial::before {content: \"\";position: absolute;border-left: 1px solid gray;box-sizing: border-box;top: 0;bottom: 0;left: 50%;z-index: 0;}#sk-container-id-1 div.sk-serial {display: flex;flex-direction: column;align-items: center;background-color: white;padding-right: 0.2em;padding-left: 0.2em;position: relative;}#sk-container-id-1 div.sk-item {position: relative;z-index: 1;}#sk-container-id-1 div.sk-parallel {display: flex;align-items: stretch;justify-content: center;background-color: white;position: relative;}#sk-container-id-1 div.sk-item::before, #sk-container-id-1 div.sk-parallel-item::before {content: \"\";position: absolute;border-left: 1px solid gray;box-sizing: border-box;top: 0;bottom: 0;left: 50%;z-index: -1;}#sk-container-id-1 div.sk-parallel-item {display: flex;flex-direction: column;z-index: 1;position: relative;background-color: white;}#sk-container-id-1 div.sk-parallel-item:first-child::after {align-self: flex-end;width: 50%;}#sk-container-id-1 div.sk-parallel-item:last-child::after {align-self: flex-start;width: 50%;}#sk-container-id-1 div.sk-parallel-item:only-child::after {width: 0;}#sk-container-id-1 div.sk-dashed-wrapped {border: 1px dashed gray;margin: 0 0.4em 0.5em 0.4em;box-sizing: border-box;padding-bottom: 0.4em;background-color: white;}#sk-container-id-1 div.sk-label label {font-family: monospace;font-weight: bold;display: inline-block;line-height: 1.2em;}#sk-container-id-1 div.sk-label-container {text-align: center;}#sk-container-id-1 div.sk-container {/* jupyter's `normalize.less` sets `[hidden] { display: none; }` but bootstrap.min.css set `[hidden] { display: none !important; }` so we also need the `!important` here to be able to override the default hidden behavior on the sphinx rendered scikit-learn.org. See: https://github.com/scikit-learn/scikit-learn/issues/21755 */display: inline-block !important;position: relative;}#sk-container-id-1 div.sk-text-repr-fallback {display: none;}</style><div id=\"sk-container-id-1\" class=\"sk-top-container\"><div class=\"sk-text-repr-fallback\"><pre>OneHotEncoder(sparse=False, sparse_output=False)</pre><b>In a Jupyter environment, please rerun this cell to show the HTML representation or trust the notebook. <br />On GitHub, the HTML representation is unable to render, please try loading this page with nbviewer.org.</b></div><div class=\"sk-container\" hidden><div class=\"sk-item\"><div class=\"sk-estimator sk-toggleable\"><input class=\"sk-toggleable__control sk-hidden--visually\" id=\"sk-estimator-id-1\" type=\"checkbox\" checked><label for=\"sk-estimator-id-1\" class=\"sk-toggleable__label sk-toggleable__label-arrow\">OneHotEncoder</label><div class=\"sk-toggleable__content\"><pre>OneHotEncoder(sparse=False, sparse_output=False)</pre></div></div></div></div></div>"
            ]
          },
          "metadata": {},
          "execution_count": 20
        }
      ],
      "source": [
        "from sklearn.preprocessing import OneHotEncoder,LabelEncoder\n",
        "\n",
        "label_encoder = LabelEncoder()\n",
        "integer_encoded = label_encoder.fit_transform(classes)\n",
        "\n",
        "onehot_encoder = OneHotEncoder(sparse=False)\n",
        "integer_encoded = integer_encoded.reshape(len(integer_encoded), 1)\n",
        "onehot_encoder.fit(integer_encoded)"
      ]
    },
    {
      "cell_type": "code",
      "execution_count": null,
      "metadata": {
        "id": "kBSSPNw2UeNf"
      },
      "outputs": [],
      "source": [
        "train_label_encoded = label_encoder.transform(train_label)\n",
        "train_label_encoded = train_label_encoded.reshape(len(train_label_encoded), 1)\n",
        "train_label = onehot_encoder.transform(train_label_encoded)"
      ]
    },
    {
      "cell_type": "code",
      "execution_count": null,
      "metadata": {
        "id": "tfjmgTkjf2FV"
      },
      "outputs": [],
      "source": [
        "test_labels_encoded = label_encoder.transform(test_labels)\n",
        "test_labels_encoded = test_labels_encoded.reshape(len(test_labels_encoded), 1)\n",
        "test_labels = onehot_encoder.transform(test_labels_encoded)"
      ]
    },
    {
      "cell_type": "markdown",
      "metadata": {
        "id": "Du1qt7zNqL-s"
      },
      "source": [
        "### Model preparation"
      ]
    },
    {
      "cell_type": "code",
      "execution_count": null,
      "metadata": {
        "id": "CGSAh8JL93wY"
      },
      "outputs": [],
      "source": [
        "from tensorflow.keras.models import Sequential\n",
        "from tensorflow.keras.layers import Dense, Input, Dropout, LSTM, Activation, Bidirectional,Embedding"
      ]
    },
    {
      "cell_type": "code",
      "execution_count": null,
      "metadata": {
        "colab": {
          "base_uri": "https://localhost:8080/"
        },
        "id": "OAAPhcLY957i",
        "outputId": "88f2c7a4-b560-4011-c751-380d78e63315"
      },
      "outputs": [
        {
          "output_type": "stream",
          "name": "stderr",
          "text": [
            "WARNING:tensorflow:Layer lstm will not use cuDNN kernels since it doesn't meet the criteria. It will use a generic GPU kernel as fallback when running on GPU.\n",
            "WARNING:tensorflow:Layer lstm will not use cuDNN kernels since it doesn't meet the criteria. It will use a generic GPU kernel as fallback when running on GPU.\n",
            "WARNING:tensorflow:Layer lstm will not use cuDNN kernels since it doesn't meet the criteria. It will use a generic GPU kernel as fallback when running on GPU.\n",
            "WARNING:tensorflow:Layer lstm_1 will not use cuDNN kernels since it doesn't meet the criteria. It will use a generic GPU kernel as fallback when running on GPU.\n"
          ]
        },
        {
          "output_type": "stream",
          "name": "stdout",
          "text": [
            "Model: \"sequential\"\n",
            "_________________________________________________________________\n",
            " Layer (type)                Output Shape              Param #   \n",
            "=================================================================\n",
            " embedding (Embedding)       (None, 16, 100)           634200    \n",
            "                                                                 \n",
            " bidirectional (Bidirectiona  (None, 16, 512)          731136    \n",
            " l)                                                              \n",
            "                                                                 \n",
            " dropout (Dropout)           (None, 16, 512)           0         \n",
            "                                                                 \n",
            " lstm_1 (LSTM)               (None, 256)               787456    \n",
            "                                                                 \n",
            " dropout_1 (Dropout)         (None, 256)               0         \n",
            "                                                                 \n",
            " dense (Dense)               (None, 50)                12850     \n",
            "                                                                 \n",
            " dropout_2 (Dropout)         (None, 50)                0         \n",
            "                                                                 \n",
            " dense_1 (Dense)             (None, 151)               7701      \n",
            "                                                                 \n",
            "=================================================================\n",
            "Total params: 2,173,343\n",
            "Trainable params: 1,539,143\n",
            "Non-trainable params: 634,200\n",
            "_________________________________________________________________\n"
          ]
        }
      ],
      "source": [
        "model = Sequential()\n",
        "\n",
        "model.add(Embedding(num_words, 100, trainable=False,input_length=train_sequences.shape[1], weights=[embedding_matrix]))\n",
        "model.add(Bidirectional(LSTM(256, return_sequences=True, recurrent_dropout=0.1, dropout=0.1), 'concat'))\n",
        "model.add(Dropout(0.3))\n",
        "model.add(LSTM(256, return_sequences=False, recurrent_dropout=0.1, dropout=0.1))\n",
        "model.add(Dropout(0.3))\n",
        "model.add(Dense(50, activation='relu'))\n",
        "model.add(Dropout(0.3))\n",
        "model.add(Dense(classes.shape[0], activation='softmax'))\n",
        "model.summary()"
      ]
    },
    {
      "cell_type": "code",
      "execution_count": null,
      "metadata": {
        "id": "NcS8Rou3_dO_"
      },
      "outputs": [],
      "source": [
        "model.compile(loss='categorical_crossentropy', optimizer='adam', metrics=['acc'])"
      ]
    },
    {
      "cell_type": "code",
      "execution_count": null,
      "metadata": {
        "colab": {
          "base_uri": "https://localhost:8080/"
        },
        "id": "P2KYcmvp_jZs",
        "outputId": "cc5ab051-79e4-477d-cc07-66a33216cc37"
      },
      "outputs": [
        {
          "output_type": "stream",
          "name": "stdout",
          "text": [
            "Epoch 1/20\n",
            "260/260 [==============================] - 74s 231ms/step - loss: 4.7123 - acc: 0.0480 - val_loss: 3.9718 - val_acc: 0.0789\n",
            "Epoch 2/20\n",
            "260/260 [==============================] - 55s 212ms/step - loss: 3.3314 - acc: 0.1715 - val_loss: 2.2046 - val_acc: 0.4044\n",
            "Epoch 3/20\n",
            "260/260 [==============================] - 55s 212ms/step - loss: 2.1781 - acc: 0.3955 - val_loss: 1.5269 - val_acc: 0.5723\n",
            "Epoch 4/20\n",
            "260/260 [==============================] - 55s 211ms/step - loss: 1.6107 - acc: 0.5395 - val_loss: 1.0980 - val_acc: 0.6925\n",
            "Epoch 5/20\n",
            "260/260 [==============================] - 54s 209ms/step - loss: 1.2452 - acc: 0.6441 - val_loss: 0.8996 - val_acc: 0.7470\n",
            "Epoch 6/20\n",
            "260/260 [==============================] - 61s 235ms/step - loss: 1.0086 - acc: 0.7093 - val_loss: 0.7951 - val_acc: 0.7793\n",
            "Epoch 7/20\n",
            "260/260 [==============================] - 55s 211ms/step - loss: 0.8624 - acc: 0.7535 - val_loss: 0.7448 - val_acc: 0.7858\n",
            "Epoch 8/20\n",
            "260/260 [==============================] - 54s 207ms/step - loss: 0.7145 - acc: 0.7940 - val_loss: 0.6327 - val_acc: 0.8242\n",
            "Epoch 9/20\n",
            "260/260 [==============================] - 55s 211ms/step - loss: 0.6256 - acc: 0.8219 - val_loss: 0.6676 - val_acc: 0.8159\n",
            "Epoch 10/20\n",
            "260/260 [==============================] - 54s 209ms/step - loss: 0.5615 - acc: 0.8403 - val_loss: 0.5954 - val_acc: 0.8437\n",
            "Epoch 11/20\n",
            "260/260 [==============================] - 55s 211ms/step - loss: 0.4885 - acc: 0.8600 - val_loss: 0.5754 - val_acc: 0.8557\n",
            "Epoch 12/20\n",
            "260/260 [==============================] - 54s 207ms/step - loss: 0.4449 - acc: 0.8749 - val_loss: 0.5783 - val_acc: 0.8615\n",
            "Epoch 13/20\n",
            "260/260 [==============================] - 55s 210ms/step - loss: 0.4009 - acc: 0.8888 - val_loss: 0.5599 - val_acc: 0.8689\n",
            "Epoch 14/20\n",
            "260/260 [==============================] - 54s 209ms/step - loss: 0.3785 - acc: 0.8934 - val_loss: 0.5949 - val_acc: 0.8624\n",
            "Epoch 15/20\n",
            "260/260 [==============================] - 55s 210ms/step - loss: 0.3233 - acc: 0.9107 - val_loss: 0.5789 - val_acc: 0.8754\n",
            "Epoch 16/20\n",
            "260/260 [==============================] - 55s 213ms/step - loss: 0.3034 - acc: 0.9133 - val_loss: 0.6042 - val_acc: 0.8660\n",
            "Epoch 17/20\n",
            "260/260 [==============================] - 55s 211ms/step - loss: 0.2834 - acc: 0.9195 - val_loss: 0.5533 - val_acc: 0.8835\n",
            "Epoch 18/20\n",
            "260/260 [==============================] - 54s 208ms/step - loss: 0.2802 - acc: 0.9232 - val_loss: 0.5581 - val_acc: 0.8842\n",
            "Epoch 19/20\n",
            "260/260 [==============================] - 56s 214ms/step - loss: 0.2446 - acc: 0.9321 - val_loss: 0.5614 - val_acc: 0.8858\n",
            "Epoch 20/20\n",
            "260/260 [==============================] - 56s 214ms/step - loss: 0.2184 - acc: 0.9383 - val_loss: 0.5724 - val_acc: 0.8887\n"
          ]
        }
      ],
      "source": [
        "history = model.fit(train_sequences, train_label, epochs = 20,\n",
        "          batch_size = 64, shuffle=True,\n",
        "          validation_data=[test_sequences, test_labels])"
      ]
    },
    {
      "cell_type": "markdown",
      "metadata": {
        "id": "VYs3fVgMoWiT"
      },
      "source": [
        "### Metrics visualization"
      ]
    },
    {
      "cell_type": "code",
      "execution_count": null,
      "metadata": {
        "id": "nZmZeP0_Jsc4"
      },
      "outputs": [],
      "source": [
        "import matplotlib.pyplot as plt\n",
        "%matplotlib inline"
      ]
    },
    {
      "cell_type": "code",
      "execution_count": null,
      "metadata": {
        "colab": {
          "base_uri": "https://localhost:8080/",
          "height": 295
        },
        "id": "H8TwH3prJ65_",
        "outputId": "73d5cef4-a377-4160-b82d-01814a03b9a4"
      },
      "outputs": [
        {
          "output_type": "display_data",
          "data": {
            "text/plain": [
              "<Figure size 432x288 with 1 Axes>"
            ],
            "image/png": "[encoded data removed]"
          },
          "metadata": {
            "needs_background": "light"
          }
        }
      ],
      "source": [
        "plt.plot(history.history['acc'])\n",
        "plt.plot(history.history['val_acc'])\n",
        "plt.title('Model Accuracy')\n",
        "plt.ylabel('Accuracy')\n",
        "plt.xlabel('Epoch')\n",
        "plt.legend(['Train', 'Validation'], loc='upper left')\n",
        "plt.show()"
      ]
    },
    {
      "cell_type": "code",
      "execution_count": null,
      "metadata": {
        "colab": {
          "base_uri": "https://localhost:8080/",
          "height": 295
        },
        "id": "jUFOzWUPKJAi",
        "outputId": "233aac9b-5107-4551-fe4d-4b80a6dd7015"
      },
      "outputs": [
        {
          "output_type": "display_data",
          "data": {
            "text/plain": [
              "<Figure size 432x288 with 1 Axes>"
            ],
            "image/png": "[encoded data removed]"
          },
          "metadata": {
            "needs_background": "light"
          }
        }
      ],
      "source": [
        "plt.plot(history.history['loss'])\n",
        "plt.plot(history.history['val_loss'])\n",
        "plt.title('Model Loss')\n",
        "plt.ylabel('Loss')\n",
        "plt.xlabel('Epoch')\n",
        "plt.legend(['Train', 'Validation'], loc='upper left')\n",
        "plt.show()"
      ]
    },
    {
      "cell_type": "markdown",
      "metadata": {
        "id": "81XISPv_tcR-"
      },
      "source": [
        "### Saving Model, Tokenizer, Label Encoder and Labels"
      ]
    },
    {
      "cell_type": "code",
      "execution_count": null,
      "metadata": {
        "id": "RNviRqNDyDTL"
      },
      "outputs": [],
      "source": [
        "import pickle\n",
        "import json"
      ]
    },
    {
      "cell_type": "code",
      "execution_count": null,
      "metadata": {
        "id": "9zOHenVltxQ4"
      },
      "outputs": [],
      "source": [
        "model.save('model_intents.h5')\n",
        "\n",
        "with open('classes.pkl','wb') as file:\n",
        "   pickle.dump(classes,file)\n",
        "\n",
        "with open('tokenizer.pkl','wb') as file:\n",
        "   pickle.dump(tokenizer,file)\n",
        "\n",
        "with open('label_encoder.pkl','wb') as file:\n",
        "   pickle.dump(label_encoder,file)"
      ]
    },
    {
      "cell_type": "code",
      "source": [
        "#extra\n",
        "\n",
        "with open('padding.pkl','wb') as file:\n",
        "   pickle.dump(pad,file)"
      ],
      "metadata": {
        "id": "vI14B76bCFoH"
      },
      "execution_count": null,
      "outputs": []
    },
    {
      "cell_type": "markdown",
      "metadata": {
        "id": "bdYPWYe2thPq"
      },
      "source": [
        "### Predicting on real-time examples"
      ]
    },
    {
      "cell_type": "code",
      "execution_count": null,
      "metadata": {
        "id": "24QuaXKKTjbd"
      },
      "outputs": [],
      "source": [
        "class IntentClassifier:\n",
        "    def __init__(self,classes,model,tokenizer,label_encoder):\n",
        "        self.classes = classes\n",
        "        self.classifier = model\n",
        "        self.tokenizer = tokenizer\n",
        "        self.label_encoder = label_encoder\n",
        "\n",
        "    def get_intent(self,text):\n",
        "        self.text = [text]\n",
        "        self.test_keras = self.tokenizer.texts_to_sequences(self.text)\n",
        "        self.test_keras_sequence = pad_sequences(self.test_keras, maxlen=16, padding='post')\n",
        "        self.pred = self.classifier.predict(self.test_keras_sequence)\n",
        "        return label_encoder.inverse_transform(np.argmax(self.pred,1))[0]"
      ]
    },
    {
      "cell_type": "code",
      "execution_count": null,
      "metadata": {
        "id": "ugLte8PZvXq6",
        "colab": {
          "base_uri": "https://localhost:8080/"
        },
        "outputId": "26b0b0a1-a25c-4687-d2bc-f37f5e295e8d"
      },
      "outputs": [
        {
          "output_type": "stream",
          "name": "stdout",
          "text": [
            "Looking in indexes: https://pypi.org/simple, https://us-python.pkg.dev/colab-wheels/public/simple/\n",
            "Collecting keras==2.1.6\n",
            "  Downloading Keras-2.1.6-py2.py3-none-any.whl (339 kB)\n",
            "\u001b[2K     \u001b[90m━━━━━━━━━━━━━━━━━━━━━━━━━━━━━━━━━━━━━━\u001b[0m \u001b[32m339.6/339.6 KB\u001b[0m \u001b[31m24.6 MB/s\u001b[0m eta \u001b[36m0:00:00\u001b[0m\n",
            "\u001b[?25hRequirement already satisfied: pyyaml in /usr/local/lib/python3.9/dist-packages (from keras==2.1.6) (6.0)\n",
            "Requirement already satisfied: six>=1.9.0 in /usr/local/lib/python3.9/dist-packages (from keras==2.1.6) (1.16.0)\n",
            "Requirement already satisfied: h5py in /usr/local/lib/python3.9/dist-packages (from keras==2.1.6) (3.8.0)\n",
            "Requirement already satisfied: numpy>=1.9.1 in /usr/local/lib/python3.9/dist-packages (from keras==2.1.6) (1.22.4)\n",
            "Requirement already satisfied: scipy>=0.14 in /usr/local/lib/python3.9/dist-packages (from keras==2.1.6) (1.10.1)\n",
            "Installing collected packages: keras\n",
            "  Attempting uninstall: keras\n",
            "    Found existing installation: keras 2.11.0\n",
            "    Uninstalling keras-2.11.0:\n",
            "      Successfully uninstalled keras-2.11.0\n",
            "\u001b[31mERROR: pip's dependency resolver does not currently take into account all the packages that are installed. This behaviour is the source of the following dependency conflicts.\n",
            "tensorflow 2.11.0 requires keras<2.12,>=2.11.0, but you have keras 2.1.6 which is incompatible.\u001b[0m\u001b[31m\n",
            "\u001b[0mSuccessfully installed keras-2.1.6\n"
          ]
        }
      ],
      "source": [
        "pip install keras==2.1.6"
      ]
    },
    {
      "cell_type": "code",
      "execution_count": null,
      "metadata": {
        "id": "3KLG_JveUwcD",
        "colab": {
          "base_uri": "https://localhost:8080/"
        },
        "outputId": "ec68a22f-2ded-411b-9fc3-0204bce315ee"
      },
      "outputs": [
        {
          "output_type": "stream",
          "name": "stderr",
          "text": [
            "WARNING:tensorflow:Layer lstm will not use cuDNN kernels since it doesn't meet the criteria. It will use a generic GPU kernel as fallback when running on GPU.\n",
            "WARNING:tensorflow:Layer lstm will not use cuDNN kernels since it doesn't meet the criteria. It will use a generic GPU kernel as fallback when running on GPU.\n",
            "WARNING:tensorflow:Layer lstm will not use cuDNN kernels since it doesn't meet the criteria. It will use a generic GPU kernel as fallback when running on GPU.\n",
            "WARNING:tensorflow:Layer lstm_1 will not use cuDNN kernels since it doesn't meet the criteria. It will use a generic GPU kernel as fallback when running on GPU.\n"
          ]
        }
      ],
      "source": [
        "import pickle\n",
        "\n",
        "from keras.models import load_model\n",
        "\n",
        "model = load_model('model_intents.h5')\n",
        "\n",
        "with open('classes.pkl','rb') as file:\n",
        "  classes = pickle.load(file)\n",
        "\n",
        "\n",
        "with open('label_encoder.pkl','rb') as file:\n",
        "  label_encoder = pickle.load(file)\n",
        "\n",
        "\n",
        "with open('tokenizer.pkl','rb') as file:\n",
        "  tokenizer = pickle.load(file)"
      ]
    },
    {
      "cell_type": "code",
      "execution_count": null,
      "metadata": {
        "id": "GbQosr9oTzUf"
      },
      "outputs": [],
      "source": [
        "nlu = IntentClassifier(classes,model,tokenizer,label_encoder)"
      ]
    },
    {
      "cell_type": "code",
      "execution_count": null,
      "metadata": {
        "colab": {
          "base_uri": "https://localhost:8080/",
          "height": 54
        },
        "id": "QBrwahL8T3br",
        "outputId": "a967718d-7d4d-4705-ae75-a380d8e44664"
      },
      "outputs": [
        {
          "output_type": "stream",
          "name": "stdout",
          "text": [
            "1/1 [==============================] - 0s 31ms/step\n"
          ]
        },
        {
          "output_type": "execute_result",
          "data": {
            "text/plain": [
              "'change_language'"
            ],
            "application/vnd.google.colaboratory.intrinsic+json": {
              "type": "string"
            }
          },
          "metadata": {},
          "execution_count": 52
        }
      ],
      "source": [
        "nlu.get_intent(\"change language from hindi to ennglish \")"
      ]
    },
    {
      "cell_type": "code",
      "execution_count": null,
      "metadata": {
        "colab": {
          "base_uri": "https://localhost:8080/"
        },
        "id": "tLIxEFAOvXq6",
        "outputId": "2016cd39-dd6e-4001-e928-37677fc2551b"
      },
      "outputs": [
        {
          "output_type": "stream",
          "name": "stdout",
          "text": [
            "['accept_reservations' 'account_blocked' 'alarm' 'application_status'\n",
            " 'apr' 'are_you_a_bot' 'balance' 'bill_balance' 'bill_due' 'book_flight'\n",
            " 'book_hotel' 'calculator' 'calendar' 'calendar_update' 'calories'\n",
            " 'cancel' 'cancel_reservation' 'car_rental' 'card_declined' 'carry_on'\n",
            " 'change_accent' 'change_ai_name' 'change_language' 'change_speed'\n",
            " 'change_user_name' 'change_volume' 'confirm_reservation' 'cook_time'\n",
            " 'credit_limit' 'credit_limit_change' 'credit_score' 'current_location'\n",
            " 'damaged_card' 'date' 'definition' 'direct_deposit' 'directions'\n",
            " 'distance' 'do_you_have_pets' 'exchange_rate' 'expiration_date'\n",
            " 'find_phone' 'flight_status' 'flip_coin' 'food_last' 'freeze_account'\n",
            " 'fun_fact' 'gas' 'gas_type' 'goodbye' 'greeting' 'how_busy'\n",
            " 'how_old_are_you' 'improve_credit_score' 'income'\n",
            " 'ingredient_substitution' 'ingredients_list' 'insurance'\n",
            " 'insurance_change' 'interest_rate' 'international_fees'\n",
            " 'international_visa' 'jump_start' 'last_maintenance' 'lost_luggage'\n",
            " 'make_call' 'maybe' 'meal_suggestion' 'meaning_of_life'\n",
            " 'measurement_conversion' 'meeting_schedule' 'min_payment' 'mpg'\n",
            " 'new_card' 'next_holiday' 'next_song' 'no' 'nutrition_info'\n",
            " 'oil_change_how' 'oil_change_when' 'oos' 'order' 'order_checks'\n",
            " 'order_status' 'pay_bill' 'payday' 'pin_change' 'play_music' 'plug_type'\n",
            " 'pto_balance' 'pto_request' 'pto_request_status' 'pto_used' 'recipe'\n",
            " 'redeem_rewards' 'reminder' 'reminder_update' 'repeat'\n",
            " 'replacement_card_duration' 'report_fraud' 'report_lost_card'\n",
            " 'reset_settings' 'restaurant_reservation' 'restaurant_reviews'\n",
            " 'restaurant_suggestion' 'rewards_balance' 'roll_dice' 'rollover_401k'\n",
            " 'routing' 'schedule_maintenance' 'schedule_meeting' 'share_location'\n",
            " 'shopping_list' 'shopping_list_update' 'smart_home' 'spelling'\n",
            " 'spending_history' 'sync_device' 'taxes' 'tell_joke' 'text' 'thank_you'\n",
            " 'time' 'timer' 'timezone' 'tire_change' 'tire_pressure' 'todo_list'\n",
            " 'todo_list_update' 'traffic' 'transactions' 'transfer' 'translate'\n",
            " 'travel_alert' 'travel_notification' 'travel_suggestion' 'uber'\n",
            " 'update_playlist' 'user_name' 'vaccines' 'w2' 'weather'\n",
            " 'what_are_your_hobbies' 'what_can_i_ask_you' 'what_is_your_name'\n",
            " 'what_song' 'where_are_you_from' 'whisper_mode' 'who_do_you_work_for'\n",
            " 'who_made_you' 'yes']\n"
          ]
        }
      ],
      "source": [
        "print(classes)"
      ]
    },
    {
      "cell_type": "code",
      "execution_count": null,
      "metadata": {
        "id": "b_RoH8_svXq6"
      },
      "outputs": [],
      "source": []
    },
    {
      "cell_type": "code",
      "execution_count": null,
      "metadata": {
        "id": "YeH2utsevXq6"
      },
      "outputs": [],
      "source": []
    },
    {
      "cell_type": "code",
      "source": [
        "''''''"
      ],
      "metadata": {
        "id": "6MuF6Jm9msT4"
      },
      "execution_count": null,
      "outputs": []
    },
    {
      "cell_type": "code",
      "execution_count": null,
      "metadata": {
        "id": "oS8P5qAHvXq6"
      },
      "outputs": [],
      "source": []
    },
    {
      "cell_type": "code",
      "execution_count": null,
      "metadata": {
        "id": "O-cbhXghvXq6"
      },
      "outputs": [],
      "source": []
    },
    {
      "cell_type": "code",
      "execution_count": null,
      "metadata": {
        "id": "miYRcBkyvXq6"
      },
      "outputs": [],
      "source": []
    },
    {
      "cell_type": "code",
      "execution_count": null,
      "metadata": {
        "id": "ePv-7UUAvXq6"
      },
      "outputs": [],
      "source": []
    },
    {
      "cell_type": "code",
      "execution_count": null,
      "metadata": {
        "id": "pI8jGZmlvXq7"
      },
      "outputs": [],
      "source": []
    },
    {
      "cell_type": "code",
      "execution_count": null,
      "metadata": {
        "id": "4SON_yr2vXq7"
      },
      "outputs": [],
      "source": []
    },
    {
      "cell_type": "code",
      "execution_count": null,
      "metadata": {
        "id": "5LlJACx7vXq7"
      },
      "outputs": [],
      "source": []
    },
    {
      "cell_type": "code",
      "execution_count": null,
      "metadata": {
        "id": "IRJvaKpUvXq7"
      },
      "outputs": [],
      "source": []
    },
    {
      "cell_type": "code",
      "execution_count": null,
      "metadata": {
        "id": "SKvTpSfzvXq7"
      },
      "outputs": [],
      "source": []
    },
    {
      "cell_type": "code",
      "execution_count": null,
      "metadata": {
        "id": "xaS1unF1vXq7"
      },
      "outputs": [],
      "source": []
    },
    {
      "cell_type": "code",
      "execution_count": null,
      "metadata": {
        "id": "fg7WLtTfvXq7"
      },
      "outputs": [],
      "source": []
    },
    {
      "cell_type": "code",
      "execution_count": null,
      "metadata": {
        "id": "D4Sn7JUpvXq7"
      },
      "outputs": [],
      "source": []
    },
    {
      "cell_type": "code",
      "execution_count": null,
      "metadata": {
        "id": "_u-ASHjLvXq7"
      },
      "outputs": [],
      "source": []
    },
    {
      "cell_type": "code",
      "execution_count": null,
      "metadata": {
        "id": "o3BBeNG4vXq7"
      },
      "outputs": [],
      "source": []
    },
    {
      "cell_type": "code",
      "execution_count": null,
      "metadata": {
        "id": "9nc4kW3EvXq7"
      },
      "outputs": [],
      "source": []
    },
    {
      "cell_type": "code",
      "execution_count": null,
      "metadata": {
        "id": "ni-unEvVvXq7"
      },
      "outputs": [],
      "source": []
    },
    {
      "cell_type": "code",
      "execution_count": null,
      "metadata": {
        "id": "hBUs5WNIvXq7"
      },
      "outputs": [],
      "source": []
    },
    {
      "cell_type": "code",
      "execution_count": null,
      "metadata": {
        "id": "M2KVm3DmvXq7"
      },
      "outputs": [],
      "source": []
    },
    {
      "cell_type": "code",
      "execution_count": null,
      "metadata": {
        "id": "R57-eN6FvXq7"
      },
      "outputs": [],
      "source": []
    },
    {
      "cell_type": "code",
      "execution_count": null,
      "metadata": {
        "id": "sXlcrJoBvXq8"
      },
      "outputs": [],
      "source": []
    },
    {
      "cell_type": "code",
      "execution_count": null,
      "metadata": {
        "id": "AxyAYF_PvXq8"
      },
      "outputs": [],
      "source": []
    },
    {
      "cell_type": "code",
      "execution_count": null,
      "metadata": {
        "id": "V9gT5FIbvXq8"
      },
      "outputs": [],
      "source": []
    },
    {
      "cell_type": "code",
      "execution_count": null,
      "metadata": {
        "id": "yVlwQEGrvXq8"
      },
      "outputs": [],
      "source": []
    },
    {
      "cell_type": "code",
      "execution_count": null,
      "metadata": {
        "id": "2wGgcXOhvXq8"
      },
      "outputs": [],
      "source": []
    },
    {
      "cell_type": "code",
      "execution_count": null,
      "metadata": {
        "id": "JM1CXjg-vXq8"
      },
      "outputs": [],
      "source": []
    },
    {
      "cell_type": "code",
      "execution_count": null,
      "metadata": {
        "id": "WraN8y9GvXq8"
      },
      "outputs": [],
      "source": []
    },
    {
      "cell_type": "code",
      "execution_count": null,
      "metadata": {
        "id": "4euLiuhNvXq8"
      },
      "outputs": [],
      "source": []
    },
    {
      "cell_type": "code",
      "execution_count": null,
      "metadata": {
        "id": "LYQidcI2vXq8"
      },
      "outputs": [],
      "source": []
    },
    {
      "cell_type": "code",
      "execution_count": null,
      "metadata": {
        "id": "fs7Za8S6vXq8"
      },
      "outputs": [],
      "source": []
    },
    {
      "cell_type": "code",
      "execution_count": null,
      "metadata": {
        "id": "easKEKNAvXq8"
      },
      "outputs": [],
      "source": []
    },
    {
      "cell_type": "code",
      "execution_count": null,
      "metadata": {
        "id": "72Fubs9QvXq8"
      },
      "outputs": [],
      "source": []
    }
  ],
  "metadata": {
    "accelerator": "GPU",
    "colab": {
      "provenance": []
    },
    "kernelspec": {
      "display_name": "Python 3 (ipykernel)",
      "language": "python",
      "name": "python3"
    },
    "language_info": {
      "codemirror_mode": {
        "name": "ipython",
        "version": 3
      },
      "file_extension": ".py",
      "mimetype": "text/x-python",
      "name": "python",
      "nbconvert_exporter": "python",
      "pygments_lexer": "ipython3",
      "version": "3.10.7"
    },
    "vscode": {
      "interpreter": {
        "hash": "5c3ba9a0aa3bddb8d4e5df6925252ff69f7900b497abbc2fda43c371363c6fac"
      }
    }
  },
  "nbformat": 4,
  "nbformat_minor": 0
}